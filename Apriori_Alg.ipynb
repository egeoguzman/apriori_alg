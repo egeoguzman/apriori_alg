{
  "nbformat": 4,
  "nbformat_minor": 0,
  "metadata": {
    "colab": {
      "name": "Apriori-Alg.ipynb",
      "provenance": [],
      "collapsed_sections": []
    },
    "kernelspec": {
      "name": "python3",
      "display_name": "Python 3"
    }
  },
  "cells": [
    {
      "cell_type": "markdown",
      "metadata": {
        "id": "lYzEpWObOdpC",
        "colab_type": "text"
      },
      "source": [
        "**CMPE325 – STUDY OF PROGRAMMING LANGUAGES\n",
        "HOMEWORK III**\n",
        "\n",
        "*We're going to implement Apriori data mining algorithm which is used in the frequent pattern mining domains. *"
      ]
    },
    {
      "cell_type": "markdown",
      "metadata": {
        "id": "R0lSSDWMsJ39",
        "colab_type": "text"
      },
      "source": [
        "**Part A : Finding the sets**"
      ]
    },
    {
      "cell_type": "code",
      "metadata": {
        "id": "Oy4Q9in0N_5M",
        "colab_type": "code",
        "colab": {}
      },
      "source": [
        "#Project Requirements\n",
        "import pandas as pd\n",
        "import numpy as np\n",
        "from functools import reduce\n",
        "from collections import Counter,defaultdict"
      ],
      "execution_count": 0,
      "outputs": []
    },
    {
      "cell_type": "code",
      "metadata": {
        "id": "rbJ7cjEmJrTX",
        "colab_type": "code",
        "colab": {}
      },
      "source": [
        "#Create a function to use for mapping\n",
        "\n",
        "def map_func(lst1 , lst2):\n",
        "  return [(x+y) for x in lst1 for y in lst2]"
      ],
      "execution_count": 0,
      "outputs": []
    },
    {
      "cell_type": "code",
      "metadata": {
        "id": "-KUbeHcpdrgA",
        "colab_type": "code",
        "colab": {}
      },
      "source": [
        "#Our input list\n",
        "\n",
        "input_list = ['A' , 'B' , 'C' , 'D','E','F','G']"
      ],
      "execution_count": 0,
      "outputs": []
    },
    {
      "cell_type": "code",
      "metadata": {
        "id": "GnDnZw5c4b_r",
        "colab_type": "code",
        "colab": {}
      },
      "source": [
        "#Define a function to find frequence set\n",
        "#Function takes two parameters. Input & Previous Frequence Set\n",
        "def func_combine(input , previous_freq_set):  \n",
        "  temp1 = []\n",
        "  temp2 = []\n",
        "  temp3 = []\n",
        "  result = []\n",
        "#For loop returns number of lenght of previous set times\n",
        "  for x in range(len(previous_freq_set)-1):\n",
        "#dummy holds the lenght of string for previous set to define a process\n",
        "    dummy = len(previous_freq_set[0])\n",
        "#If the our string's lenght is 1 , it means our Previous Set is same with Input list\n",
        "    if dummy == 1:\n",
        "#Append each element of Previous Set to the Template_List_1\n",
        "      temp1.append(previous_freq_set[x])\n",
        "#Append the elements which are remaining from the last value of the each elements of Previous Set \n",
        "      temp2.append(input[x+dummy:])\n",
        "#Map two Template List with out mapper function as a Combinated_List\n",
        "      combinated_list = list(map(map_func,temp1,temp2))\n",
        "    else:\n",
        "#If the string's lenght of the Previous Set bigger than 1 , do the process below\n",
        "#Append each element of Previous Set to the Template_List_1\n",
        "      temp1.append([previous_freq_set[x]])\n",
        "#Find the last value of the each element in the Previous Set\n",
        "      dummy_element = previous_freq_set[x][-1]\n",
        "#Find the index of dummy_element in the Input_List\n",
        "      dummy_index = input.index(dummy_element)\n",
        "#Append the elements which are coming after the dummy_element\n",
        "      temp2.append(input[dummy_index+1:])\n",
        "##Map two Template List with out mapper function as a Combinated_List\n",
        "      combinated_list = list(map(map_func,temp1,temp2))\n",
        "#Return the combinated_list with for loop to avoid list of list issue and get smooth result.\n",
        "  return [j for i in combinated_list for j in i]\n"
      ],
      "execution_count": 0,
      "outputs": []
    },
    {
      "cell_type": "code",
      "metadata": {
        "id": "sPiV4NjP_rd_",
        "colab_type": "code",
        "outputId": "81f0d9ff-f7a0-4a3d-f126-8777df414aeb",
        "colab": {
          "base_uri": "https://localhost:8080/",
          "height": 156
        }
      },
      "source": [
        "#Calls function recursively with same Input list and the Previous Set to find each step\n",
        "print(input_list)\n",
        "twos = func_combine(input_list,input_list)\n",
        "print(twos)\n",
        "threes = func_combine(input_list,twos)\n",
        "print(threes)\n",
        "fours = func_combine(input_list,threes)\n",
        "print(fours)\n",
        "fives = func_combine(input_list,fours)\n",
        "print(fives)\n",
        "sixes = func_combine(input_list,fives)\n",
        "print(sixes)\n",
        "sevens = func_combine(input_list,sixes)\n",
        "print(sevens)\n"
      ],
      "execution_count": 0,
      "outputs": [
        {
          "output_type": "stream",
          "text": [
            "['A', 'B', 'C', 'D', 'E', 'F', 'G']\n",
            "['AB', 'AC', 'AD', 'AE', 'AF', 'AG', 'BC', 'BD', 'BE', 'BF', 'BG', 'CD', 'CE', 'CF', 'CG', 'DE', 'DF', 'DG', 'EF', 'EG', 'FG']\n",
            "['ABC', 'ABD', 'ABE', 'ABF', 'ABG', 'ACD', 'ACE', 'ACF', 'ACG', 'ADE', 'ADF', 'ADG', 'AEF', 'AEG', 'AFG', 'BCD', 'BCE', 'BCF', 'BCG', 'BDE', 'BDF', 'BDG', 'BEF', 'BEG', 'BFG', 'CDE', 'CDF', 'CDG', 'CEF', 'CEG', 'CFG', 'DEF', 'DEG', 'DFG', 'EFG']\n",
            "['ABCD', 'ABCE', 'ABCF', 'ABCG', 'ABDE', 'ABDF', 'ABDG', 'ABEF', 'ABEG', 'ABFG', 'ACDE', 'ACDF', 'ACDG', 'ACEF', 'ACEG', 'ACFG', 'ADEF', 'ADEG', 'ADFG', 'AEFG', 'BCDE', 'BCDF', 'BCDG', 'BCEF', 'BCEG', 'BCFG', 'BDEF', 'BDEG', 'BDFG', 'BEFG', 'CDEF', 'CDEG', 'CDFG', 'CEFG', 'DEFG']\n",
            "['ABCDE', 'ABCDF', 'ABCDG', 'ABCEF', 'ABCEG', 'ABCFG', 'ABDEF', 'ABDEG', 'ABDFG', 'ABEFG', 'ACDEF', 'ACDEG', 'ACDFG', 'ACEFG', 'ADEFG', 'BCDEF', 'BCDEG', 'BCDFG', 'BCEFG', 'BDEFG', 'CDEFG']\n",
            "['ABCDEF', 'ABCDEG', 'ABCDFG', 'ABCEFG', 'ABDEFG', 'ACDEFG', 'BCDEFG']\n",
            "['ABCDEFG']\n"
          ],
          "name": "stdout"
        }
      ]
    },
    {
      "cell_type": "markdown",
      "metadata": {
        "id": "-evigklUsR96",
        "colab_type": "text"
      },
      "source": [
        "**Part B : Counting the occurrence of sets**"
      ]
    },
    {
      "cell_type": "code",
      "metadata": {
        "id": "-QbxPu-iewbV",
        "colab_type": "code",
        "outputId": "41c1b2ff-bd04-4960-e519-600eb4a37029",
        "colab": {
          "base_uri": "https://localhost:8080/",
          "height": 71
        }
      },
      "source": [
        "#To count all occurrences set we create a full list\n",
        "full_list = ['A', 'B', 'C', 'D', 'E', 'F', 'G','AB', 'AC', 'AD','ABCDE', 'ABCDF', 'ABCDG', 'ABCEF', 'ABCEG', 'ABCFG', 'ABDEF', 'ABDEG', 'ABDFG', 'ABEFG', 'ACDEF', 'ACDEG', 'ACDFG', 'ACEFG', 'ADEFG', 'BCDEF', 'BCDEG', 'BCDFG', 'BCEFG', 'BDEFG', 'CDEFG','ABCDEFG','ABCDEF', 'ABCDEG', 'ABCDFG', 'ABCEFG', 'ABDEFG', 'ACDEFG', 'BCDEFG', 'AE', 'AF', 'AG', 'BC', 'BD', 'BE', 'BF', 'BG', 'CD', 'CE', 'CF', 'CG', 'DE', 'DF', 'DG', 'EF', 'EG', 'FG','ABC', 'ABD', 'ABE', 'ABF', 'ABG', 'ACD', 'ACE', 'ACF', 'ACG', 'ADE', 'ADF', 'ADG', 'AEF', 'AEG', 'AFG', 'BCD', 'BCE', 'BCF', 'BCG', 'BDE', 'BDF', 'BDG', 'BEF', 'BEG', 'BFG', 'CDE', 'CDF', 'CDG', 'CEF', 'CEG', 'CFG', 'DEF', 'DEG', 'DFG', 'EFG','ABCD', 'ABCE', 'ABCF', 'ABCG', 'ABDE', 'ABDF', 'ABDG', 'ABEF', 'ABEG', 'ABFG', 'ACDE', 'ACDF', 'ACDG', 'ACEF', 'ACEG', 'ACFG', 'ADEF', 'ADEG', 'ADFG', 'AEFG', 'BCDE', 'BCDF', 'BCDG', 'BCEF', 'BCEG', 'BCFG', 'BDEF', 'BDEG', 'BDFG', 'BEFG', 'CDEF', 'CDEG', 'CDFG', 'CEFG', 'DEFG']\n",
        "#Reverse the full_list to avoid mismatch and wrong counting\n",
        "full_list.reverse()\n",
        "#Merge the merged_list as a one string to make easy to count occurrenced sets\n",
        "smooth_list = ''\n",
        "for x in full_list:\n",
        "  smooth_list = smooth_list + x\n",
        "\n",
        "print(full_list)\n",
        "print(smooth_list)"
      ],
      "execution_count": 0,
      "outputs": [
        {
          "output_type": "stream",
          "text": [
            "['DEFG', 'CEFG', 'CDFG', 'CDEG', 'CDEF', 'BEFG', 'BDFG', 'BDEG', 'BDEF', 'BCFG', 'BCEG', 'BCEF', 'BCDG', 'BCDF', 'BCDE', 'AEFG', 'ADFG', 'ADEG', 'ADEF', 'ACFG', 'ACEG', 'ACEF', 'ACDG', 'ACDF', 'ACDE', 'ABFG', 'ABEG', 'ABEF', 'ABDG', 'ABDF', 'ABDE', 'ABCG', 'ABCF', 'ABCE', 'ABCD', 'EFG', 'DFG', 'DEG', 'DEF', 'CFG', 'CEG', 'CEF', 'CDG', 'CDF', 'CDE', 'BFG', 'BEG', 'BEF', 'BDG', 'BDF', 'BDE', 'BCG', 'BCF', 'BCE', 'BCD', 'AFG', 'AEG', 'AEF', 'ADG', 'ADF', 'ADE', 'ACG', 'ACF', 'ACE', 'ACD', 'ABG', 'ABF', 'ABE', 'ABD', 'ABC', 'FG', 'EG', 'EF', 'DG', 'DF', 'DE', 'CG', 'CF', 'CE', 'CD', 'BG', 'BF', 'BE', 'BD', 'BC', 'AG', 'AF', 'AE', 'BCDEFG', 'ACDEFG', 'ABDEFG', 'ABCEFG', 'ABCDFG', 'ABCDEG', 'ABCDEF', 'ABCDEFG', 'CDEFG', 'BDEFG', 'BCEFG', 'BCDFG', 'BCDEG', 'BCDEF', 'ADEFG', 'ACEFG', 'ACDFG', 'ACDEG', 'ACDEF', 'ABEFG', 'ABDFG', 'ABDEG', 'ABDEF', 'ABCFG', 'ABCEG', 'ABCEF', 'ABCDG', 'ABCDF', 'ABCDE', 'AD', 'AC', 'AB', 'G', 'F', 'E', 'D', 'C', 'B', 'A']\n",
            "DEFGCEFGCDFGCDEGCDEFBEFGBDFGBDEGBDEFBCFGBCEGBCEFBCDGBCDFBCDEAEFGADFGADEGADEFACFGACEGACEFACDGACDFACDEABFGABEGABEFABDGABDFABDEABCGABCFABCEABCDEFGDFGDEGDEFCFGCEGCEFCDGCDFCDEBFGBEGBEFBDGBDFBDEBCGBCFBCEBCDAFGAEGAEFADGADFADEACGACFACEACDABGABFABEABDABCFGEGEFDGDFDECGCFCECDBGBFBEBDBCAGAFAEBCDEFGACDEFGABDEFGABCEFGABCDFGABCDEGABCDEFABCDEFGCDEFGBDEFGBCEFGBCDFGBCDEGBCDEFADEFGACEFGACDFGACDEGACDEFABEFGABDFGABDEGABDEFABCFGABCEGABCEFABCDGABCDFABCDEADACABGFEDCBA\n"
          ],
          "name": "stdout"
        }
      ]
    },
    {
      "cell_type": "code",
      "metadata": {
        "id": "8VzlXr1slXf4",
        "colab_type": "code",
        "outputId": "33b5afe3-6f05-4571-bef8-37f87f003333",
        "colab": {
          "base_uri": "https://localhost:8080/",
          "height": 54
        }
      },
      "source": [
        "#To count occurrenced sets , we use reduce function\n",
        "#Reducer function collect every element and their counts and insert to the dictionary\n",
        "def reducer(s , m):\n",
        "  return dict((x,smooth_list.count(x)) for x in full_list)\n",
        "#Call reduce() with reducer() and two merged list to search one by one\n",
        "#Search , find and count every element and their repeats in each set\n",
        "print(reduce(reducer,smooth_list,full_list))"
      ],
      "execution_count": 0,
      "outputs": [
        {
          "output_type": "stream",
          "text": [
            "{'DEFG': 9, 'CEFG': 4, 'CDFG': 4, 'CDEG': 4, 'CDEF': 9, 'BEFG': 2, 'BDFG': 2, 'BDEG': 2, 'BDEF': 4, 'BCFG': 3, 'BCEG': 2, 'BCEF': 4, 'BCDG': 2, 'BCDF': 4, 'BCDE': 9, 'AEFG': 1, 'ADFG': 1, 'ADEG': 1, 'ADEF': 2, 'ACFG': 1, 'ACEG': 1, 'ACEF': 2, 'ACDG': 1, 'ACDF': 2, 'ACDE': 4, 'ABFG': 1, 'ABEG': 1, 'ABEF': 2, 'ABDG': 1, 'ABDF': 2, 'ABDE': 4, 'ABCG': 1, 'ABCF': 3, 'ABCE': 4, 'ABCD': 8, 'EFG': 16, 'DFG': 8, 'DEG': 8, 'DEF': 17, 'CFG': 5, 'CEG': 4, 'CEF': 8, 'CDG': 4, 'CDF': 8, 'CDE': 17, 'BFG': 2, 'BEG': 2, 'BEF': 4, 'BDG': 2, 'BDF': 4, 'BDE': 8, 'BCG': 2, 'BCF': 5, 'BCE': 8, 'BCD': 16, 'AFG': 1, 'AEG': 1, 'AEF': 2, 'ADG': 1, 'ADF': 2, 'ADE': 4, 'ACG': 1, 'ACF': 2, 'ACE': 4, 'ACD': 8, 'ABG': 2, 'ABF': 2, 'ABE': 4, 'ABD': 8, 'ABC': 16, 'FG': 32, 'EG': 16, 'EF': 32, 'DG': 8, 'DF': 16, 'DE': 33, 'CG': 4, 'CF': 9, 'CE': 16, 'CD': 32, 'BG': 3, 'BF': 4, 'BE': 8, 'BD': 16, 'BC': 32, 'AG': 1, 'AF': 2, 'AE': 4, 'BCDEFG': 3, 'ACDEFG': 1, 'ABDEFG': 1, 'ABCEFG': 1, 'ABCDFG': 1, 'ABCDEG': 1, 'ABCDEF': 3, 'ABCDEFG': 2, 'CDEFG': 5, 'BDEFG': 2, 'BCEFG': 2, 'BCDFG': 2, 'BCDEG': 2, 'BCDEF': 5, 'ADEFG': 1, 'ACEFG': 1, 'ACDFG': 1, 'ACDEG': 1, 'ACDEF': 2, 'ABEFG': 1, 'ABDFG': 1, 'ABDEG': 1, 'ABDEF': 2, 'ABCFG': 2, 'ABCEG': 1, 'ABCEF': 2, 'ABCDG': 1, 'ABCDF': 2, 'ABCDE': 5, 'AD': 8, 'AC': 16, 'AB': 32, 'G': 64, 'F': 64, 'E': 64, 'D': 64, 'C': 64, 'B': 64, 'A': 64}\n"
          ],
          "name": "stdout"
        }
      ]
    }
  ]
}